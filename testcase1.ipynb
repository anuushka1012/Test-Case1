{
  "nbformat": 4,
  "nbformat_minor": 0,
  "metadata": {
    "colab": {
      "provenance": [],
      "authorship_tag": "ABX9TyNGJofBfqU5hy/9sY5gW2As",
      "include_colab_link": true
    },
    "kernelspec": {
      "name": "python3",
      "display_name": "Python 3"
    },
    "language_info": {
      "name": "python"
    }
  },
  "cells": [
    {
      "cell_type": "markdown",
      "metadata": {
        "id": "view-in-github",
        "colab_type": "text"
      },
      "source": [
        "<a href=\"https://colab.research.google.com/github/anuushka1012/Test-Case1/blob/main/testcase1.ipynb\" target=\"_parent\"><img src=\"https://colab.research.google.com/assets/colab-badge.svg\" alt=\"Open In Colab\"/></a>"
      ]
    },
    {
      "cell_type": "code",
      "execution_count": null,
      "metadata": {
        "colab": {
          "base_uri": "https://localhost:8080/"
        },
        "id": "2uwhwStiwWww",
        "outputId": "69cb41c8-5211-4401-d309-cd643b800d98"
      },
      "outputs": [
        {
          "output_type": "stream",
          "name": "stdout",
          "text": [
            "Requirement already satisfied: fuzzywuzzy in /usr/local/lib/python3.10/dist-packages (0.18.0)\n",
            "Best matched Database name - ford_aspire - 66%\n",
            "Best matched Database name - ford_figo - 80%\n",
            "Best matched Database name - ford_aspire - 66%\n",
            "Best matched Database name - ford_figo - 50%\n",
            "Best matched Database name - hyundai_aura - 60%\n",
            "Best matched Database name - hyundai_aura - 60%\n",
            "Best matched Database name - hyundai_aura - 48%\n",
            "Best matched Database name - hyundai_aura - 60%\n"
          ]
        }
      ],
      "source": [
        "!pip install fuzzywuzzy\n",
        "import re\n",
        "import fuzzywuzzy\n",
        "from fuzzywuzzy import process\n",
        "\n",
        "\n",
        "database_names = [\n",
        "    \"ford_aspire\",\n",
        "\"ford_ecosport\",\n",
        "\"ford_endeavour\",\n",
        "\"ford_figo\",\n",
        "\"honda_amaze\",\n",
        "\"honda_city\",\n",
        "\"honda_wr_v\",\n",
        "\"hyundai_aura\",\n",
        "\"hyundai_grand_i10\",\n",
        "\"hyundai_i10\",\n",
        "\"jeep_compass\",\n",
        "\"jeep_meridian\",\n",
        "\"kia_carens\",\n",
        "\"kia_seltos\",\n",
        "\"kia_sonet\",\n",
        "\"land_rover_defender\",\n",
        "\"mahindra_scorpio\",\n",
        "\"mahindra_thar\",\n",
        "\"mahindra_xuv300\",\n",
        "\"mahindra_xuv400\",\n",
        "\"mahindra_xuv700\",\n",
        "\"maruti_celerio\",\n",
        "\"maruti_suzuki_brezza\",\n",
        "\"maruti_suzuki_s_presso\",\n",
        "\"maruti_suzuki_swift\",\n",
        "\"maruti_suzuki_wagonr\",\n",
        "\"maruti_suzuki_xl6\",\n",
        "\"mg_astor\",\n",
        "\"mg_gloster\",\n",
        "\"mg_hector\",\n",
        "\"mg_zs_ev\",\n",
        "\"renault_kiger\",\n",
        "\"renault_triber\",\n",
        "\"skoda_kushaq\",\n",
        "\"skoda_slavia\",\n",
        "\"tata_harrier\",\n",
        "\"tata_punch\",\n",
        "\"tata_tiago\",\n",
        "\"toyota_camry\",\n",
        "\"toyota_fortuner\",\n",
        "\"toyota_fortuner_legender\",\n",
        "\"toyota_glanza\",\n",
        "\"toyota_innova_crysta\"]\n",
        "\n",
        "\n",
        "def match_model_name(user_input):\n",
        "    user_input = user_input.replace(\" \", \"_\").lower()\n",
        "    user_input = re.sub(r'[^a-zA-Z0-9\\s]', '', user_input)\n",
        "    noise_words = [\"pvt ltd\", \"india\", \"mt\", \"dies\", \"tdci\", \"petrol\",\"trend+\", \"bs iv\", \"kap\", \"sx(o)\"]\n",
        "    for word in noise_words:\n",
        "        user_input = user_input.replace(word, \"\")\n",
        "\n",
        "    # Use FuzzyWuzzy to find the best match\n",
        "    best_match = process.extractOne(user_input, database_names)\n",
        "\n",
        "    # Calculate the similarity percentage\n",
        "    similarity_percentage = best_match[1]\n",
        "\n",
        "    return f\"Best matched Database name - {best_match[0]} - {similarity_percentage}%\"\n",
        "\n",
        "# Test the function\n",
        "user_inputs = [\n",
        "    \"FORD INDIA PVT LTD-FIGOASPIRE 1.2 PETROL TREND+MT\",\n",
        "    \"FORD INDIA PVT LTD-FORD FIGO ASPIRE 1.5 TDCI DIES\",\n",
        "    \"FORD INDIA PVT LTD-FIGOASPIRE 1.5 PETROL TITNMAT\",\n",
        "    \"FORD INDIA PVT LTD-FIGO 1.5 D AMBIENT MT BS IV\",\n",
        "    \"HYUNDAI MOTOR INDIA LTD-AURA 1.2MT KAPPA SX\",\n",
        "    \"HYUNDAI MOTOR INDIA LTD-AURA 1.2MT KAPPA SX(O)\",\n",
        "    \"NA-AURA 1.2MT CRDI S\",\n",
        "    \"HYUNDAI MOTOR INDIA LTD-AURA 1.2AMT KAPPA SX+\"\n",
        "]\n",
        "\n",
        "for user_input in user_inputs:\n",
        "    print(match_model_name(user_input))"
      ]
    }
  ]
}